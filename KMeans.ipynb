{
  "nbformat": 4,
  "nbformat_minor": 0,
  "metadata": {
    "colab": {
      "provenance": []
    },
    "kernelspec": {
      "name": "python3",
      "display_name": "Python 3"
    },
    "language_info": {
      "name": "python"
    }
  },
  "cells": [
    {
      "cell_type": "code",
      "source": [
        "from sklearn.datasets import make_blobs\n",
        "import matplotlib.pyplot as plt\n",
        "import matplotlib.cm as cm\n",
        "X, y_true = make_blobs(n_sample=360, centers=4,cluster_std=0.60, random_state=0)\n",
        "plt.scatter(X[:, 0], X[:, 1]);"
      ],
      "metadata": {
        "id": "JLiHT8GJ5pYj"
      },
      "execution_count": null,
      "outputs": []
    },
    {
      "cell_type": "code",
      "source": [
        "kmeans = KMeans(n_clusters=4)\n",
        "kmeans.fit(X)"
      ],
      "metadata": {
        "id": "aiZX4L1ejf6O"
      },
      "execution_count": null,
      "outputs": []
    },
    {
      "cell_type": "code",
      "source": [
        "from sklearn.datasets import make_blobs\n",
        "import matplotlib.pyplot as plt\n",
        "import matplotlib.cm as cm\n",
        "X, y_true = make_blobs(n_samples=360, centers=4, cluster_std=0.60, random_state=0)\n",
        "plt.scatter(X[:, 0], X[:, 1])\n",
        "plt.show()\n"
      ],
      "metadata": {
        "colab": {
          "base_uri": "https://localhost:8080/",
          "height": 430
        },
        "id": "LxDfbVAlkb2T",
        "outputId": "b93a3a32-d20c-4d43-8653-36f7530b82de"
      },
      "execution_count": null,
      "outputs": [
        {
          "output_type": "display_data",
          "data": {
            "text/plain": [
              "<Figure size 640x480 with 1 Axes>"
            ],
            "image/png": "[encoded data removed]"
          },
          "metadata": {}
        }
      ]
    },
    {
      "cell_type": "code",
      "source": [
        "from sklearn.cluster import KMeans\n",
        "from sklearn.metrics import silhouette_score"
      ],
      "metadata": {
        "id": "HNQsOHuWk_eX"
      },
      "execution_count": null,
      "outputs": []
    },
    {
      "cell_type": "code",
      "source": [
        "kmeans = KMeans(n_clusters=4)\n",
        "kmeans.fit(X)"
      ],
      "metadata": {
        "colab": {
          "base_uri": "https://localhost:8080/",
          "height": 129
        },
        "id": "l5DBHjjckfV-",
        "outputId": "7d9d6ebd-4cde-44ff-a554-058f2599a7fa"
      },
      "execution_count": null,
      "outputs": [
        {
          "output_type": "stream",
          "name": "stderr",
          "text": [
            "/usr/local/lib/python3.10/dist-packages/sklearn/cluster/_kmeans.py:870: FutureWarning: The default value of `n_init` will change from 10 to 'auto' in 1.4. Set the value of `n_init` explicitly to suppress the warning\n",
            "  warnings.warn(\n"
          ]
        },
        {
          "output_type": "execute_result",
          "data": {
            "text/plain": [
              "KMeans(n_clusters=4)"
            ],
            "text/html": [
              "<style>#sk-container-id-1 {color: black;background-color: white;}#sk-container-id-1 pre{padding: 0;}#sk-container-id-1 div.sk-toggleable {background-color: white;}#sk-container-id-1 label.sk-toggleable__label {cursor: pointer;display: block;width: 100%;margin-bottom: 0;padding: 0.3em;box-sizing: border-box;text-align: center;}#sk-container-id-1 label.sk-toggleable__label-arrow:before {content: \"▸\";float: left;margin-right: 0.25em;color: #696969;}#sk-container-id-1 label.sk-toggleable__label-arrow:hover:before {color: black;}#sk-container-id-1 div.sk-estimator:hover label.sk-toggleable__label-arrow:before {color: black;}#sk-container-id-1 div.sk-toggleable__content {max-height: 0;max-width: 0;overflow: hidden;text-align: left;background-color: #f0f8ff;}#sk-container-id-1 div.sk-toggleable__content pre {margin: 0.2em;color: black;border-radius: 0.25em;background-color: #f0f8ff;}#sk-container-id-1 input.sk-toggleable__control:checked~div.sk-toggleable__content {max-height: 200px;max-width: 100%;overflow: auto;}#sk-container-id-1 input.sk-toggleable__control:checked~label.sk-toggleable__label-arrow:before {content: \"▾\";}#sk-container-id-1 div.sk-estimator input.sk-toggleable__control:checked~label.sk-toggleable__label {background-color: #d4ebff;}#sk-container-id-1 div.sk-label input.sk-toggleable__control:checked~label.sk-toggleable__label {background-color: #d4ebff;}#sk-container-id-1 input.sk-hidden--visually {border: 0;clip: rect(1px 1px 1px 1px);clip: rect(1px, 1px, 1px, 1px);height: 1px;margin: -1px;overflow: hidden;padding: 0;position: absolute;width: 1px;}#sk-container-id-1 div.sk-estimator {font-family: monospace;background-color: #f0f8ff;border: 1px dotted black;border-radius: 0.25em;box-sizing: border-box;margin-bottom: 0.5em;}#sk-container-id-1 div.sk-estimator:hover {background-color: #d4ebff;}#sk-container-id-1 div.sk-parallel-item::after {content: \"\";width: 100%;border-bottom: 1px solid gray;flex-grow: 1;}#sk-container-id-1 div.sk-label:hover label.sk-toggleable__label {background-color: #d4ebff;}#sk-container-id-1 div.sk-serial::before {content: \"\";position: absolute;border-left: 1px solid gray;box-sizing: border-box;top: 0;bottom: 0;left: 50%;z-index: 0;}#sk-container-id-1 div.sk-serial {display: flex;flex-direction: column;align-items: center;background-color: white;padding-right: 0.2em;padding-left: 0.2em;position: relative;}#sk-container-id-1 div.sk-item {position: relative;z-index: 1;}#sk-container-id-1 div.sk-parallel {display: flex;align-items: stretch;justify-content: center;background-color: white;position: relative;}#sk-container-id-1 div.sk-item::before, #sk-container-id-1 div.sk-parallel-item::before {content: \"\";position: absolute;border-left: 1px solid gray;box-sizing: border-box;top: 0;bottom: 0;left: 50%;z-index: -1;}#sk-container-id-1 div.sk-parallel-item {display: flex;flex-direction: column;z-index: 1;position: relative;background-color: white;}#sk-container-id-1 div.sk-parallel-item:first-child::after {align-self: flex-end;width: 50%;}#sk-container-id-1 div.sk-parallel-item:last-child::after {align-self: flex-start;width: 50%;}#sk-container-id-1 div.sk-parallel-item:only-child::after {width: 0;}#sk-container-id-1 div.sk-dashed-wrapped {border: 1px dashed gray;margin: 0 0.4em 0.5em 0.4em;box-sizing: border-box;padding-bottom: 0.4em;background-color: white;}#sk-container-id-1 div.sk-label label {font-family: monospace;font-weight: bold;display: inline-block;line-height: 1.2em;}#sk-container-id-1 div.sk-label-container {text-align: center;}#sk-container-id-1 div.sk-container {/* jupyter's `normalize.less` sets `[hidden] { display: none; }` but bootstrap.min.css set `[hidden] { display: none !important; }` so we also need the `!important` here to be able to override the default hidden behavior on the sphinx rendered scikit-learn.org. See: https://github.com/scikit-learn/scikit-learn/issues/21755 */display: inline-block !important;position: relative;}#sk-container-id-1 div.sk-text-repr-fallback {display: none;}</style><div id=\"sk-container-id-1\" class=\"sk-top-container\"><div class=\"sk-text-repr-fallback\"><pre>KMeans(n_clusters=4)</pre><b>In a Jupyter environment, please rerun this cell to show the HTML representation or trust the notebook. <br />On GitHub, the HTML representation is unable to render, please try loading this page with nbviewer.org.</b></div><div class=\"sk-container\" hidden><div class=\"sk-item\"><div class=\"sk-estimator sk-toggleable\"><input class=\"sk-toggleable__control sk-hidden--visually\" id=\"sk-estimator-id-1\" type=\"checkbox\" checked><label for=\"sk-estimator-id-1\" class=\"sk-toggleable__label sk-toggleable__label-arrow\">KMeans</label><div class=\"sk-toggleable__content\"><pre>KMeans(n_clusters=4)</pre></div></div></div></div></div>"
            ]
          },
          "metadata": {},
          "execution_count": 10
        }
      ]
    },
    {
      "cell_type": "code",
      "source": [
        "print(kmeans.cluster_centers_)\n",
        "print(kmeans.labels_)"
      ],
      "metadata": {
        "colab": {
          "base_uri": "https://localhost:8080/"
        },
        "id": "TtyxLOSnlnZD",
        "outputId": "205f5649-2382-46aa-f522-15106f5cd169"
      },
      "execution_count": null,
      "outputs": [
        {
          "output_type": "stream",
          "name": "stdout",
          "text": [
            "[[ 0.92931804  4.37135395]\n",
            " [-1.3560769   7.77122522]\n",
            " [ 1.96689694  0.88505787]\n",
            " [-1.56559608  2.84230296]]\n",
            "[0 2 2 3 3 0 2 0 2 2 0 1 1 2 2 3 3 3 2 3 2 3 1 0 1 1 0 1 0 3 3 2 2 1 0 2 3\n",
            " 0 3 0 3 3 0 3 0 3 2 2 1 0 0 0 0 1 2 1 0 1 0 1 2 1 2 3 2 0 1 0 0 1 0 0 1 3\n",
            " 1 3 3 3 1 2 2 1 3 2 2 1 2 1 1 2 2 2 2 3 3 1 1 3 3 1 2 0 1 0 3 3 3 0 0 3 1\n",
            " 2 3 0 2 3 1 1 0 3 3 0 0 3 0 0 0 2 1 0 2 3 0 0 1 1 2 0 1 3 2 0 3 3 0 1 1 0\n",
            " 0 0 0 3 2 3 2 3 0 0 3 0 3 0 0 1 3 3 3 2 1 1 0 2 1 2 0 1 2 3 0 1 3 2 2 3 2\n",
            " 3 1 3 1 2 1 1 1 1 0 3 2 1 3 2 2 1 0 2 2 0 3 3 2 3 2 1 3 0 0 1 3 1 2 1 2 3\n",
            " 3 0 3 1 0 0 1 3 3 2 2 2 1 0 2 1 2 2 0 0 1 3 3 0 2 2 0 2 0 0 1 2 1 2 2 3 3\n",
            " 1 1 1 1 1 2 2 1 3 2 3 0 0 3 2 1 2 3 3 0 1 0 2 2 0 2 1 1 3 1 0 1 2 3 0 3 0\n",
            " 0 3 2 1 3 1 3 2 1 3 2 2 1 0 0 0 1 1 0 3 1 3 1 3 1 2 3 0 2 2 1 3 2 0 3 0 1\n",
            " 3 3 1 0 1 1 0 3 0 3 2 1 1 1 1 0 2 2 2 0 2 2 3 2 0 0 2]\n"
          ]
        }
      ]
    },
    {
      "cell_type": "code",
      "source": [
        "import numpy as np\n",
        "import pandas as pd"
      ],
      "metadata": {
        "id": "ltOAfcMqmoq1"
      },
      "execution_count": null,
      "outputs": []
    },
    {
      "cell_type": "code",
      "source": [
        "rnd = np.random.RandomState(42)\n",
        "record_count = X.shape[0]\n",
        "print(f\"record count is {record_count}\")\n",
        "rnd.permutation(record_count)"
      ],
      "metadata": {
        "colab": {
          "base_uri": "https://localhost:8080/"
        },
        "id": "Y-45aiacmMhd",
        "outputId": "29a51798-07fa-4276-b19b-b43e253750d4"
      },
      "execution_count": null,
      "outputs": [
        {
          "output_type": "stream",
          "name": "stdout",
          "text": [
            "record count is 360\n"
          ]
        },
        {
          "output_type": "execute_result",
          "data": {
            "text/plain": [
              "array([224,  42, 285, 302,  56, 272,  15,  57, 248, 124,  82, 354, 210,\n",
              "       339, 119, 126, 203, 300, 139, 356, 140, 222, 324,  33, 297, 220,\n",
              "       147, 325,  25,  73, 267,   9, 347, 148, 113,  39,  22, 351,  94,\n",
              "        90, 180,  30, 305, 108, 157, 232,  55,   5,  45, 342, 286, 237,\n",
              "       209,  78, 333, 283,   3, 116,  76, 284,  63,  46, 211,  77,  72,\n",
              "        84, 358, 199, 334,  93, 198, 197, 289, 336, 231,  75, 194, 318,\n",
              "        16,  66, 132,   7, 192, 152, 323, 314, 173, 158, 109, 295,  60,\n",
              "       114, 258, 110, 218, 229,  17, 145,  24, 101, 316, 185, 208, 137,\n",
              "       155, 225, 355, 254, 175, 265, 167, 193,  19, 281,  79, 163,  18,\n",
              "       301, 104, 278, 118,  31,  36, 153, 238, 312, 335, 250, 227,  59,\n",
              "       111, 344,   6, 261, 337,  10, 165, 103,  81, 177, 239, 182, 183,\n",
              "       242, 195,  92,  69, 240,  96, 143, 274,  97, 196,  68,  23,  37,\n",
              "       144, 122,  67, 338, 341, 287, 168, 125, 146, 296,  86, 303, 176,\n",
              "       304, 172, 317, 255, 256, 181, 253, 129,  38,  11, 234, 340, 112,\n",
              "       179, 233, 223, 117, 332, 346, 271, 326, 164, 262, 245, 154, 247,\n",
              "         2, 115, 266, 202, 249, 120, 277, 244, 310, 127,  74, 291,  29,\n",
              "        83, 298, 107, 290, 219, 133, 184, 309,  44, 331,  65, 268,  85,\n",
              "       186,  70, 159,  12,  35,  28, 170, 142, 150, 228, 221, 131, 288,\n",
              "        51, 294,  95, 275, 178, 204, 123,  41,  89, 280, 206, 136,  26,\n",
              "       352, 141, 246, 299,   4,   0, 322, 307, 327, 100, 226, 343, 213,\n",
              "       171,  98, 215,  61,  47,  32, 200, 320,  27, 282, 230, 260, 162,\n",
              "       321, 138,  62, 135, 128,   8,  64,  14, 156,  40, 349, 292, 216,\n",
              "       279, 311, 236, 207, 212, 328, 251, 350, 329, 269, 201, 161,  43,\n",
              "       217, 190, 259, 105,  53,   1,  49,  80, 205,  34, 263,  91,  52,\n",
              "       264, 241,  13, 315,  88, 273, 166, 353, 134, 306, 345, 319, 243,\n",
              "        54,  50, 174, 189, 357, 187, 169,  58,  48, 235, 252,  21, 313,\n",
              "       160, 276, 191, 293, 257, 308, 149, 130, 151,  99,  87, 330, 214,\n",
              "       121, 359,  20, 188,  71, 106, 270, 348, 102])"
            ]
          },
          "metadata": {},
          "execution_count": 14
        }
      ]
    },
    {
      "cell_type": "code",
      "source": [
        "cent_index = rnd.permutation(record_count)\n",
        "cent_index"
      ],
      "metadata": {
        "colab": {
          "base_uri": "https://localhost:8080/"
        },
        "id": "jO3pjXWRn0mR",
        "outputId": "964bf415-5a5e-4825-e20f-3c418c3e6e35"
      },
      "execution_count": null,
      "outputs": [
        {
          "output_type": "execute_result",
          "data": {
            "text/plain": [
              "array([260, 205,  77,  65,  81, 223, 336, 265, 147, 347, 115, 215,  67,\n",
              "        63, 316,  33,  58, 131, 326, 216, 210, 294, 118, 120, 198,  86,\n",
              "        10, 164, 202,  39,  72,  21, 296, 317, 186, 269,   1, 207, 138,\n",
              "        78, 231, 309, 230, 206,  54, 213, 226,  96, 174, 345, 353, 329,\n",
              "        40, 194,  97, 295,  49, 251,  25, 346, 133, 279, 224, 324, 171,\n",
              "        23, 305, 193, 158, 259, 103, 239, 106, 306,  14,  13,  48,  87,\n",
              "        17, 211, 301, 297, 229, 348,  84,  79, 208, 280, 244, 101,  31,\n",
              "       255, 235, 181,   5,  37, 248,  55, 282, 344, 183, 109,  76,   2,\n",
              "       302, 165, 187, 342,  71, 283, 357, 227, 311, 190, 130, 241, 250,\n",
              "       298, 220, 148,  90, 155, 333, 328,  60, 319,  30, 264,  69, 199,\n",
              "        44,  70, 180, 240, 154, 135, 168, 234, 327, 197,  26, 136, 266,\n",
              "         6, 314, 351, 358, 173, 145, 212, 132, 303, 354,  41, 108, 275,\n",
              "        56, 166, 196, 330, 122,  24, 175, 258, 281, 308, 285, 110,  82,\n",
              "        51, 127,  27,   8, 350, 331, 252, 267, 272,  18, 233, 284, 111,\n",
              "       254,  61, 192,  16,  29, 276, 204, 293,  12, 182, 112, 232,  36,\n",
              "       343, 150, 300, 262, 359,  98, 176, 291, 273, 200, 243, 137, 209,\n",
              "        20, 163, 340, 156,  74, 113, 338, 335, 134, 104, 114, 161, 225,\n",
              "       201, 286,  92,   7,  89,  80, 349,  34, 129,  45,  94, 242, 140,\n",
              "        28,  43,  42,  73, 167, 247,  64,  66,  11, 332, 170, 178, 292,\n",
              "       160,  32, 318, 162, 177, 139, 151,  83, 218, 159, 257, 288,  15,\n",
              "         3, 256, 299, 315, 334, 222, 337, 312, 245,   9, 249,  22, 221,\n",
              "       253,  99,  38, 217, 203, 237,  93, 323, 290, 219, 184,  85, 356,\n",
              "       153,  75, 246, 277,  68, 191, 188, 271, 236,  88,  47, 117, 125,\n",
              "        95, 289, 238,   0, 121, 322, 128, 126, 278, 116, 228, 339, 352,\n",
              "       274, 119, 144, 146, 157, 105, 123, 268, 143, 307, 310,  46, 261,\n",
              "       195, 102,   4, 107,  59,  52, 355, 100,  53, 270, 325, 169, 179,\n",
              "       304,  57, 313, 149, 124, 189,  62, 185, 152,  50, 341, 214, 287,\n",
              "       321,  91, 142, 141, 263, 320,  19, 172,  35])"
            ]
          },
          "metadata": {},
          "execution_count": 20
        }
      ]
    },
    {
      "cell_type": "code",
      "source": [
        "X[cent_index[:4]]"
      ],
      "metadata": {
        "colab": {
          "base_uri": "https://localhost:8080/"
        },
        "id": "A-vTGVrKp5b5",
        "outputId": "e4d54987-3278-449a-f940-72f8eca3dd9a"
      },
      "execution_count": null,
      "outputs": [
        {
          "output_type": "execute_result",
          "data": {
            "text/plain": [
              "array([[-1.45600544,  7.35867822],\n",
              "       [ 1.87271752,  4.18069237],\n",
              "       [-1.29726456,  2.89733689],\n",
              "       [ 0.95936074,  4.56078645]])"
            ]
          },
          "metadata": {},
          "execution_count": 21
        }
      ]
    },
    {
      "cell_type": "code",
      "source": [
        "def get_random_centroids(X,cluster_count):\n",
        "  rnd = np.random.RandomState(42)\n",
        "  record_count = X.shape[0]\n",
        "  permutations = rnd.permutation(record_count)\n",
        "  random_centroid_idx = permutations[:cluster_count]\n",
        "  return X[random_centroid_idx]"
      ],
      "metadata": {
        "id": "IS8yT2zEpnbL"
      },
      "execution_count": null,
      "outputs": []
    },
    {
      "cell_type": "code",
      "source": [
        "num_clusters = 4\n",
        "centroids = get_random_centroids(X, 4)\n",
        "centroids"
      ],
      "metadata": {
        "colab": {
          "base_uri": "https://localhost:8080/"
        },
        "id": "3ILmHKZWqfls",
        "outputId": "b703ce3f-1086-44f2-d69d-cd6c302b25b0"
      },
      "execution_count": null,
      "outputs": [
        {
          "output_type": "execute_result",
          "data": {
            "text/plain": [
              "array([[-2.90007604,  3.06877291],\n",
              "       [ 1.71444449,  5.02521524],\n",
              "       [-2.09183352,  7.48142543],\n",
              "       [-0.86909591,  2.77735278]])"
            ]
          },
          "metadata": {},
          "execution_count": 23
        }
      ]
    },
    {
      "cell_type": "code",
      "source": [
        "from sklearn.metrics import pairwise_distances, pairwise_distances_argmin"
      ],
      "metadata": {
        "id": "ieyidrwOrkh1"
      },
      "execution_count": null,
      "outputs": []
    },
    {
      "cell_type": "code",
      "source": [
        "blob_centroid_dists = pairwise_distances(X, centroids)\n",
        "blob_centroid_dists"
      ],
      "metadata": {
        "colab": {
          "base_uri": "https://localhost:8080/"
        },
        "id": "O0c0364Rrw2M",
        "outputId": "d2acba25-7057-41ec-b5d4-58fd056e0b3c"
      },
      "execution_count": null,
      "outputs": [
        {
          "output_type": "execute_result",
          "data": {
            "text/plain": [
              "array([[4.30393671, 1.12503619, 3.42768243, 3.09781982],\n",
              "       [3.81509147, 3.96738087, 6.72299623, 2.01589039],\n",
              "       [5.17194183, 4.03537409, 7.58604908, 3.24169587],\n",
              "       ...,\n",
              "       [4.48836843, 0.66904256, 3.90697121, 3.08009989],\n",
              "       [4.45326417, 0.83726752, 3.71276301, 3.127475  ],\n",
              "       [5.58959821, 4.58199818, 8.15171341, 3.72300822]])"
            ]
          },
          "metadata": {},
          "execution_count": 25
        }
      ]
    },
    {
      "cell_type": "code",
      "source": [
        "np.argmin(blob_centroid_dists, axis=1)"
      ],
      "metadata": {
        "colab": {
          "base_uri": "https://localhost:8080/"
        },
        "id": "fqg7SSKtsNMg",
        "outputId": "bdbc2cb9-6d0f-481e-ed68-460ad22c44ec"
      },
      "execution_count": null,
      "outputs": [
        {
          "output_type": "execute_result",
          "data": {
            "text/plain": [
              "array([1, 3, 3, 3, 3, 3, 3, 1, 3, 3, 1, 2, 2, 3, 3, 3, 3, 3, 3, 0, 3, 3,\n",
              "       2, 1, 2, 2, 1, 2, 3, 3, 0, 3, 3, 2, 1, 3, 3, 1, 0, 1, 0, 3, 1, 0,\n",
              "       1, 3, 3, 3, 2, 1, 1, 1, 1, 2, 3, 2, 1, 2, 1, 2, 3, 2, 1, 3, 3, 1,\n",
              "       2, 3, 1, 2, 1, 1, 2, 3, 2, 0, 3, 3, 2, 3, 3, 2, 3, 3, 3, 2, 3, 2,\n",
              "       2, 3, 3, 3, 3, 3, 3, 2, 2, 3, 3, 2, 3, 1, 2, 1, 0, 3, 3, 1, 1, 3,\n",
              "       2, 3, 3, 1, 3, 3, 2, 2, 1, 3, 0, 1, 1, 0, 1, 1, 1, 3, 2, 1, 3, 3,\n",
              "       1, 1, 2, 2, 3, 1, 2, 0, 3, 3, 0, 3, 1, 2, 2, 3, 1, 1, 1, 3, 3, 3,\n",
              "       3, 3, 1, 1, 3, 1, 3, 1, 1, 2, 3, 0, 3, 3, 2, 2, 1, 3, 2, 1, 1, 2,\n",
              "       1, 0, 1, 2, 0, 1, 3, 3, 3, 3, 2, 3, 2, 3, 2, 2, 2, 2, 1, 0, 3, 2,\n",
              "       3, 3, 3, 2, 1, 3, 3, 1, 3, 3, 3, 0, 3, 2, 3, 3, 1, 2, 3, 2, 3, 2,\n",
              "       3, 3, 0, 3, 0, 2, 1, 1, 2, 3, 3, 3, 3, 3, 2, 1, 3, 2, 3, 3, 1, 1,\n",
              "       2, 3, 3, 1, 3, 1, 1, 3, 1, 1, 2, 3, 2, 3, 3, 3, 3, 2, 2, 2, 2, 2,\n",
              "       1, 3, 2, 3, 3, 0, 1, 1, 0, 3, 2, 3, 3, 0, 1, 2, 3, 1, 3, 1, 3, 2,\n",
              "       2, 3, 2, 3, 2, 3, 3, 1, 0, 1, 1, 3, 3, 2, 3, 2, 3, 3, 2, 0, 3, 3,\n",
              "       2, 3, 1, 1, 2, 2, 1, 0, 2, 3, 2, 3, 2, 3, 3, 3, 3, 3, 2, 3, 3, 1,\n",
              "       0, 1, 2, 3, 3, 2, 1, 2, 2, 1, 3, 1, 3, 3, 2, 2, 2, 2, 1, 3, 3, 3,\n",
              "       1, 3, 3, 3, 3, 1, 1, 3])"
            ]
          },
          "metadata": {},
          "execution_count": 27
        }
      ]
    },
    {
      "cell_type": "code",
      "source": [
        "cluster_memberships = pairwise_distances_argmin(X, centroids)\n",
        "cluster_memberships"
      ],
      "metadata": {
        "colab": {
          "base_uri": "https://localhost:8080/"
        },
        "id": "pQHDKGhJtCuo",
        "outputId": "643b1234-66ba-44b9-bff3-0ebdafc71f46"
      },
      "execution_count": null,
      "outputs": [
        {
          "output_type": "execute_result",
          "data": {
            "text/plain": [
              "array([1, 3, 3, 3, 3, 3, 3, 1, 3, 3, 1, 2, 2, 3, 3, 3, 3, 3, 3, 0, 3, 3,\n",
              "       2, 1, 2, 2, 1, 2, 3, 3, 0, 3, 3, 2, 1, 3, 3, 1, 0, 1, 0, 3, 1, 0,\n",
              "       1, 3, 3, 3, 2, 1, 1, 1, 1, 2, 3, 2, 1, 2, 1, 2, 3, 2, 1, 3, 3, 1,\n",
              "       2, 3, 1, 2, 1, 1, 2, 3, 2, 0, 3, 3, 2, 3, 3, 2, 3, 3, 3, 2, 3, 2,\n",
              "       2, 3, 3, 3, 3, 3, 3, 2, 2, 3, 3, 2, 3, 1, 2, 1, 0, 3, 3, 1, 1, 3,\n",
              "       2, 3, 3, 1, 3, 3, 2, 2, 1, 3, 0, 1, 1, 0, 1, 1, 1, 3, 2, 1, 3, 3,\n",
              "       1, 1, 2, 2, 3, 1, 2, 0, 3, 3, 0, 3, 1, 2, 2, 3, 1, 1, 1, 3, 3, 3,\n",
              "       3, 3, 1, 1, 3, 1, 3, 1, 1, 2, 3, 0, 3, 3, 2, 2, 1, 3, 2, 1, 1, 2,\n",
              "       1, 0, 1, 2, 0, 1, 3, 3, 3, 3, 2, 3, 2, 3, 2, 2, 2, 2, 1, 0, 3, 2,\n",
              "       3, 3, 3, 2, 1, 3, 3, 1, 3, 3, 3, 0, 3, 2, 3, 3, 1, 2, 3, 2, 3, 2,\n",
              "       3, 3, 0, 3, 0, 2, 1, 1, 2, 3, 3, 3, 3, 3, 2, 1, 3, 2, 3, 3, 1, 1,\n",
              "       2, 3, 3, 1, 3, 1, 1, 3, 1, 1, 2, 3, 2, 3, 3, 3, 3, 2, 2, 2, 2, 2,\n",
              "       1, 3, 2, 3, 3, 0, 1, 1, 0, 3, 2, 3, 3, 0, 1, 2, 3, 1, 3, 1, 3, 2,\n",
              "       2, 3, 2, 3, 2, 3, 3, 1, 0, 1, 1, 3, 3, 2, 3, 2, 3, 3, 2, 0, 3, 3,\n",
              "       2, 3, 1, 1, 2, 2, 1, 0, 2, 3, 2, 3, 2, 3, 3, 3, 3, 3, 2, 3, 3, 1,\n",
              "       0, 1, 2, 3, 3, 2, 1, 2, 2, 1, 3, 1, 3, 3, 2, 2, 2, 2, 1, 3, 3, 3,\n",
              "       1, 3, 3, 3, 3, 1, 1, 3])"
            ]
          },
          "metadata": {},
          "execution_count": 28
        }
      ]
    },
    {
      "cell_type": "code",
      "source": [
        "cluster = [X[cluster_memberships == i] for i in range(0, num_clusters)]"
      ],
      "metadata": {
        "id": "eDS1fQwCuVTs"
      },
      "execution_count": null,
      "outputs": []
    },
    {
      "cell_type": "code",
      "source": [
        "clusters = []\n",
        "for i in range(0, num_clusters):\n",
        "  clusters.append(X[cluster_memberships == i])"
      ],
      "metadata": {
        "id": "Iu43YFLfu80A"
      },
      "execution_count": null,
      "outputs": []
    },
    {
      "cell_type": "code",
      "source": [
        "len(clusters)"
      ],
      "metadata": {
        "colab": {
          "base_uri": "https://localhost:8080/"
        },
        "id": "MLOqE6kLvZfi",
        "outputId": "6fefe6db-bc25-493a-e3c7-b9e4099c6787"
      },
      "execution_count": null,
      "outputs": [
        {
          "output_type": "execute_result",
          "data": {
            "text/plain": [
              "4"
            ]
          },
          "metadata": {},
          "execution_count": 35
        }
      ]
    },
    {
      "cell_type": "code",
      "source": [
        "new_centroids = np.array(X[cluster_memberships == i].mean(axis=0)for i in range(0,num_clusters))\n"
      ],
      "metadata": {
        "id": "tDzDrAe0wCfP"
      },
      "execution_count": null,
      "outputs": []
    },
    {
      "cell_type": "code",
      "source": [
        "centroids = new_centroids"
      ],
      "metadata": {
        "id": "5ToL6mBNwi6V"
      },
      "execution_count": null,
      "outputs": []
    },
    {
      "cell_type": "code",
      "source": [
        "def kmeans(X, num_clusters=4):\n",
        "  centroids = get_random_centroids(X, cluster_count=num_clusters)\n",
        "  iter_idx = 1\n",
        "  while True:\n",
        "    print(f\"Iter idx = {iter_idx}\")\n",
        "    cluster_memberships = pairwise_distances_argmin(X, centroids)\n",
        "    new_centroids = np.array([X[cluster_memberships == i].mean(axis=0) for i range(0, num_clusters)])\n",
        "\n",
        "    if np.all(centroids == new_centroids):\n",
        "      break\n",
        "\n",
        "    centroids = new_centroids\n",
        "    iter_idx += 1\n",
        "\n",
        "  return centroid, labels"
      ],
      "metadata": {
        "colab": {
          "base_uri": "https://localhost:8080/",
          "height": 140
        },
        "id": "Oa-u3ekNwnjb",
        "outputId": "aa87627e-4dfe-4647-d461-28587c09bb98"
      },
      "execution_count": null,
      "outputs": [
        {
          "output_type": "error",
          "ename": "SyntaxError",
          "evalue": "ignored",
          "traceback": [
            "\u001b[0;36m  File \u001b[0;32m\"<ipython-input-40-713cd2fdd307>\"\u001b[0;36m, line \u001b[0;32m7\u001b[0m\n\u001b[0;31m    new_centroids = np.array([X[cluster_memberships == i].mean(axis=0) for i range(0, num_clusters)])\u001b[0m\n\u001b[0m                                                                           ^\u001b[0m\n\u001b[0;31mSyntaxError\u001b[0m\u001b[0;31m:\u001b[0m invalid syntax. Perhaps you forgot a comma?\n"
          ]
        }
      ]
    },
    {
      "cell_type": "code",
      "source": [
        "def kmeans(X, num_clusters=4):\n",
        "  centroids = get_random_centroids(X, cluster_count=num_clusters)\n",
        "  iter_idx = 1\n",
        "  while True:\n",
        "    print(f\"Iter idx = {iter_idx}\")\n",
        "    cluster_memberships = pairwise_distances_argmin(X, centroids)\n",
        "    new_centroids = np.array([X[cluster_memberships == i].mean(axis=0) for i in range(0, num_clusters)])\n",
        "\n",
        "    if np.all(centroids == new_centroids):\n",
        "      break\n",
        "\n",
        "    centroids = new_centroids\n",
        "    iter_idx += 1\n",
        "\n",
        "  return centroids, cluster_memberships\n"
      ],
      "metadata": {
        "id": "iklIIgf3zZe1"
      },
      "execution_count": null,
      "outputs": []
    }
  ]
}